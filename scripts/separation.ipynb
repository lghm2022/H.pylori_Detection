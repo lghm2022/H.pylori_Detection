{
 "cells": [
  {
   "cell_type": "code",
   "execution_count": 34,
   "id": "f973b048-70bd-4a37-a128-39d992675884",
   "metadata": {},
   "outputs": [],
   "source": [
    "import os\n",
    "import shutil\n",
    "\n",
    "#list analysed files\n",
    "seen_imgs = os.listdir(\"/home/ld_brito/DeepL/dataset description/data/images\")\n",
    "\n",
    "#List all files\n",
    "all_imgs = list()\n",
    "for (dirpath, dirnames, filenames) in os.walk('/home/ld_brito/Imagens/Database_HP/40x'):\n",
    "    all_imgs += [os.path.join(dirpath, file) for file in filenames if file.split('.')[-1] == 'tiff']\n",
    "    "
   ]
  },
  {
   "cell_type": "code",
   "execution_count": 35,
   "id": "aa603e47-b4ac-4480-bdf1-f9138216cb35",
   "metadata": {},
   "outputs": [],
   "source": [
    "unseen_imgs = [file for file in all_imgs if file.split('/')[-1] not in seen_imgs]"
   ]
  },
  {
   "cell_type": "code",
   "execution_count": 37,
   "id": "d961ad14-b6b1-46ef-9130-04b52f0cde04",
   "metadata": {},
   "outputs": [],
   "source": [
    "path_to_unseen = '/home/ld_brito/DeepL/dataset description/unseen_data'\n",
    "for img in unseen_imgs:\n",
    "        shutil.copy(img,path_to_unseen)"
   ]
  }
 ],
 "metadata": {
  "kernelspec": {
   "display_name": "Python 3 (ipykernel)",
   "language": "python",
   "name": "python3"
  },
  "language_info": {
   "codemirror_mode": {
    "name": "ipython",
    "version": 3
   },
   "file_extension": ".py",
   "mimetype": "text/x-python",
   "name": "python",
   "nbconvert_exporter": "python",
   "pygments_lexer": "ipython3",
   "version": "3.8.3"
  }
 },
 "nbformat": 4,
 "nbformat_minor": 5
}
